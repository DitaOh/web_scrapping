{
 "cells": [
  {
   "cell_type": "markdown",
   "id": "60894044",
   "metadata": {},
   "source": [
    "# Exercise 2: Bumeran — Web Scrapping\n",
    "\n",
    "## 1. Setup\n",
    "\n",
    "We already have created an env and installed requirements.txt\n",
    "\n",
    "Now we call libraries:"
   ]
  },
  {
   "cell_type": "code",
   "execution_count": 21,
   "id": "2d85bd87",
   "metadata": {},
   "outputs": [],
   "source": [
    "# this library is to manipulate browser\n",
    "from selenium import webdriver\n",
    "\n",
    "# it allows you to work with differen versions of drivers\n",
    "# We call ChromeDriver\n",
    "from selenium.webdriver.chrome.service import Service\n",
    "from selenium.webdriver.chrome.options import Options\n",
    "from webdriver_manager.chrome import ChromeDriverManager\n",
    "import re\n",
    "import time \n",
    "from selenium.webdriver.common.by import By"
   ]
  },
  {
   "cell_type": "markdown",
   "id": "3abcbdaf",
   "metadata": {},
   "source": [
    "## 2. Web Scrapping\n",
    "### Stage 1: Extract Job Posting Links\n",
    "\n",
    "We'll scrape all the job listing URLs based on the following filters:\n",
    "  - Menor a 15 días\n",
    "  - Tecnologías, Sistemas y Telecomunicaciones\n",
    "  - Programación\n",
    "  - Lima\n",
    "  - Full-time\n",
    "\n",
    "We start by launching the driver:"
   ]
  },
  {
   "cell_type": "code",
   "execution_count": 22,
   "id": "a9571fef",
   "metadata": {},
   "outputs": [],
   "source": [
    "options = Options()\n",
    "options.add_argument(\"--start-maximized\")\n",
    "\n",
    "service = Service(ChromeDriverManager().install())\n",
    "driver = webdriver.Chrome(service=service, options=options)"
   ]
  },
  {
   "cell_type": "markdown",
   "id": "842216e5",
   "metadata": {},
   "source": [
    "And set the driver url:"
   ]
  },
  {
   "cell_type": "code",
   "execution_count": 23,
   "id": "bcf163cd",
   "metadata": {},
   "outputs": [],
   "source": [
    "url = 'https://www.bumeran.com.pe/empleos.html'\n",
    "driver.get(url)\n",
    "time.sleep(3)\n",
    "\n",
    "driver.maximize_window()\n",
    "driver.execute_script(\"document.body.style.zoom='100%'\")"
   ]
  },
  {
   "cell_type": "code",
   "execution_count": 24,
   "id": "70a0ccb5",
   "metadata": {},
   "outputs": [
    {
     "name": "stdout",
     "output_type": "stream",
     "text": [
      "Title:  Trabajos en Perú - Empleos Bumeran 2020 \n",
      "Current Page URL:  https://www.bumeran.com.pe/empleos.html\n"
     ]
    }
   ],
   "source": [
    "print('Title: ', driver.title, '\\nCurrent Page URL: ', driver.current_url)"
   ]
  },
  {
   "cell_type": "markdown",
   "id": "d0cba57a",
   "metadata": {},
   "source": [
    "Now, we apply filters by code:"
   ]
  },
  {
   "cell_type": "code",
   "execution_count": 25,
   "id": "1e1b7ec8",
   "metadata": {},
   "outputs": [
    {
     "name": "stdout",
     "output_type": "stream",
     "text": [
      "Filters applied.\n"
     ]
    }
   ],
   "source": [
    "steps = [\n",
    "    # Fecha de publicación\n",
    "    (\"Open Fecha de publicación\", \"//button[contains(.,'Fecha de publicación')]\"),\n",
    "    (\"Select Menor a 15 días\", \"//button[contains(.,'Menor a 15 días')]\"),\n",
    "\n",
    "    # Área\n",
    "    (\"Open menú Área\", \"//button[contains(.,'Área')]\"),\n",
    "    (\"Select Tecnologías, Sistemas y Telecomunicaciones\", \"//button[contains(.,'Tecnología, Sistemas y Telecomunicaciones')]\"),\n",
    "\n",
    "    # Subárea\n",
    "    (\"Open Subárea\", \"//button[contains(.,'Subárea')]\"),\n",
    "    (\"Select Programación\", \"//button[contains(.,'Programación')]\"),\n",
    "\n",
    "    # Departamento\n",
    "    (\"Open Departamento\", \"//button[contains(.,'Departamento')]\"),\n",
    "    (\"Select Lima\", \"//button[contains(.,'Lima')]\"),\n",
    "\n",
    "    # Carga horaria\n",
    "    (\"Open Carga horaria\", \"//button[contains(.,'Carga horaria')]\"),\n",
    "    (\"Select Full-time\", \"//button[contains(.,'Full-time')]\")\n",
    "]\n",
    "\n",
    "for desc, xpath in steps:\n",
    "    btn = driver.find_element(By.XPATH, xpath)\n",
    "    driver.execute_script(\"arguments[0].click();\", btn)\n",
    "    time.sleep(2)\n",
    "\n",
    "print(\"Filters applied.\")\n",
    "\n",
    "filtered_url = driver.current_url"
   ]
  },
  {
   "cell_type": "markdown",
   "id": "80f52568",
   "metadata": {},
   "source": [
    "After that, we can scrape the page to get all urls:"
   ]
  },
  {
   "cell_type": "code",
   "execution_count": 26,
   "id": "b899d0c1",
   "metadata": {},
   "outputs": [
    {
     "name": "stdout",
     "output_type": "stream",
     "text": [
      "Page 1 scraped. Total so far: 20 (todos), 20 (únicos)\n",
      "Page 2 scraped. Total so far: 40 (todos), 20 (únicos)\n",
      "Page 3 scraped. Total so far: 60 (todos), 40 (únicos)\n",
      "Page 4 scraped. Total so far: 80 (todos), 40 (únicos)\n",
      "Page 5 scraped. Total so far: 100 (todos), 60 (únicos)\n",
      "Last page reached.\n",
      "Total links (con duplicados): 100\n",
      "Total unique links: 60\n"
     ]
    }
   ],
   "source": [
    "all_job_links = []\n",
    "unique_job_links = []\n",
    "base_url = \"https://www.bumeran.com.pe\"\n",
    "page = 1\n",
    "\n",
    "while True:\n",
    "    job_posts = driver.find_elements(\n",
    "        By.XPATH,\n",
    "        \"//div[@id='listado-avisos']//a[contains(@href,'/empleos/')]\"\n",
    "    )\n",
    "    for post in job_posts:\n",
    "        href = post.get_attribute(\"href\")\n",
    "        if href.startswith(\"/\"):\n",
    "            href = base_url + href\n",
    "\n",
    "        # guardar todos\n",
    "        all_job_links.append(href)\n",
    "\n",
    "        # guardar únicos\n",
    "        if href not in unique_job_links:\n",
    "            unique_job_links.append(href)\n",
    "\n",
    "    print(f\"Page {page} scraped. Total so far: {len(all_job_links)} (todos), {len(unique_job_links)} (únicos)\")\n",
    "\n",
    "    # pasar a la siguiente página\n",
    "    page += 1\n",
    "    try:\n",
    "        next_page = driver.find_element(By.XPATH, f\"//a[span[text()='{page}']]\")\n",
    "        driver.execute_script(\"arguments[0].click();\", next_page)\n",
    "        time.sleep(3)\n",
    "    except Exception:\n",
    "        print(\"Last page reached.\")\n",
    "        break\n",
    "\n",
    "print(f\"Total links (con duplicados): {len(all_job_links)}\")\n",
    "print(f\"Total unique links: {len(unique_job_links)}\")\n"
   ]
  },
  {
   "cell_type": "markdown",
   "id": "c0c0cae9",
   "metadata": {},
   "source": [
    "### Stage 2: Scrape Job Details\n",
    "\n",
    "For each job URL collected in Stage 1, extract the following:\n",
    "  - Job Title\n",
    "  - Description (up to the \"Benefits\" section)\n",
    "  - District\n",
    "  - Work Mode (e.g., on-site, remote, hybrid)\n",
    "\n",
    "We start by launching the driver:"
   ]
  }
 ],
 "metadata": {
  "kernelspec": {
   "display_name": "Python (selenium_env)",
   "language": "python",
   "name": "selenium_env"
  },
  "language_info": {
   "codemirror_mode": {
    "name": "ipython",
    "version": 3
   },
   "file_extension": ".py",
   "mimetype": "text/x-python",
   "name": "python",
   "nbconvert_exporter": "python",
   "pygments_lexer": "ipython3",
   "version": "3.11.13"
  }
 },
 "nbformat": 4,
 "nbformat_minor": 5
}
